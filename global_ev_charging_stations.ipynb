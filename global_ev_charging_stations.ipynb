{
 "cells": [
  {
   "cell_type": "code",
   "execution_count": 2,
   "id": "248b0eef-2ff3-48e5-96b5-ac8b90416428",
   "metadata": {},
   "outputs": [],
   "source": [
    "import pandas as pd \n",
    "import numpy as np\n",
    "import seaborn as sns\n",
    "import matplotlib.pyplot as plt\n"
   ]
  },
  {
   "cell_type": "markdown",
   "id": "34b1dc72-d8c8-4247-91c3-bfcaae31a55c",
   "metadata": {},
   "source": [
    "### Load Data "
   ]
  },
  {
   "cell_type": "code",
   "execution_count": 8,
   "id": "7729e9d8-b6ff-44c5-9cbe-565519d45a20",
   "metadata": {},
   "outputs": [],
   "source": [
    "charging_stations  = pd.read_csv(\"charging_stations_2025_world.csv\")"
   ]
  },
  {
   "cell_type": "code",
   "execution_count": 9,
   "id": "e5e96cba-7dc2-4195-9376-2b9878c2cbcc",
   "metadata": {},
   "outputs": [],
   "source": [
    "country_summary  = pd.read_csv(\"country_summary_2025.csv\")"
   ]
  },
  {
   "cell_type": "code",
   "execution_count": 10,
   "id": "3b2b9427-d334-4d7e-8800-1959508b047e",
   "metadata": {},
   "outputs": [],
   "source": [
    "ev_models  = pd.read_csv(\"ev_models_2025.csv\")"
   ]
  },
  {
   "cell_type": "code",
   "execution_count": 11,
   "id": "738f9ac1-b75d-4bcb-90d9-d53cb13dcd0f",
   "metadata": {},
   "outputs": [],
   "source": [
    "world_summary  = pd.read_csv(\"world_summary_2025.csv\")"
   ]
  },
  {
   "cell_type": "code",
   "execution_count": null,
   "id": "abc21a6a-5e81-43bd-a375-3967c07bcb51",
   "metadata": {},
   "outputs": [],
   "source": []
  },
  {
   "cell_type": "markdown",
   "id": "168d9745-bcf1-4cfb-b62d-5019c13060a8",
   "metadata": {},
   "source": [
    "##### Quick check of first rows\n"
   ]
  },
  {
   "cell_type": "code",
   "execution_count": 12,
   "id": "7b57e574-7284-4ef6-bf9b-2e2315bae9ed",
   "metadata": {},
   "outputs": [
    {
     "name": "stdout",
     "output_type": "stream",
     "text": [
      "Charging Stations Data:\n",
      "       id                         name     city country_code state_province  \\\n",
      "0  307660             Av. de Tarragona  Andorra           AD            NaN   \n",
      "1  301207        Parquing Costa Rodona   Encamp           AD            NaN   \n",
      "2  301206                  Hotel Naudi      NaN           AD            NaN   \n",
      "3  301205  Hotel Piolets Soldeu Centre      NaN           AD            NaN   \n",
      "4  301204                 Hotel Serras      NaN           AD            NaN   \n",
      "\n",
      "    latitude  longitude  ports  power_kw         power_class  is_fast_dc  \n",
      "0  42.505254   1.528861     10     300.0  DC_ULTRA_(>=150kW)        True  \n",
      "1  42.537213   1.727014     10      22.0   AC_HIGH_(22-49kW)       False  \n",
      "2  42.576811   1.666061      1      11.0    AC_L2_(7.5-21kW)       False  \n",
      "3  42.576466   1.667317      1      22.0   AC_HIGH_(22-49kW)       False  \n",
      "4  42.579458   1.659215      3      11.0    AC_L2_(7.5-21kW)       False   \n",
      "\n"
     ]
    }
   ],
   "source": [
    "print(\"Charging Stations Data:\")\n",
    "\n",
    "print(charging_stations.head(), \"\\n\")"
   ]
  },
  {
   "cell_type": "code",
   "execution_count": 13,
   "id": "e20e371f-4ef6-4df7-84cc-1c5242c67a2c",
   "metadata": {},
   "outputs": [
    {
     "data": {
      "text/html": [
       "<div>\n",
       "<style scoped>\n",
       "    .dataframe tbody tr th:only-of-type {\n",
       "        vertical-align: middle;\n",
       "    }\n",
       "\n",
       "    .dataframe tbody tr th {\n",
       "        vertical-align: top;\n",
       "    }\n",
       "\n",
       "    .dataframe thead th {\n",
       "        text-align: right;\n",
       "    }\n",
       "</style>\n",
       "<table border=\"1\" class=\"dataframe\">\n",
       "  <thead>\n",
       "    <tr style=\"text-align: right;\">\n",
       "      <th></th>\n",
       "      <th>id</th>\n",
       "      <th>name</th>\n",
       "      <th>city</th>\n",
       "      <th>country_code</th>\n",
       "      <th>state_province</th>\n",
       "      <th>latitude</th>\n",
       "      <th>longitude</th>\n",
       "      <th>ports</th>\n",
       "      <th>power_kw</th>\n",
       "      <th>power_class</th>\n",
       "      <th>is_fast_dc</th>\n",
       "    </tr>\n",
       "  </thead>\n",
       "  <tbody>\n",
       "    <tr>\n",
       "      <th>0</th>\n",
       "      <td>307660</td>\n",
       "      <td>Av. de Tarragona</td>\n",
       "      <td>Andorra</td>\n",
       "      <td>AD</td>\n",
       "      <td>NaN</td>\n",
       "      <td>42.505254</td>\n",
       "      <td>1.528861</td>\n",
       "      <td>10</td>\n",
       "      <td>300.0</td>\n",
       "      <td>DC_ULTRA_(&gt;=150kW)</td>\n",
       "      <td>True</td>\n",
       "    </tr>\n",
       "    <tr>\n",
       "      <th>1</th>\n",
       "      <td>301207</td>\n",
       "      <td>Parquing Costa Rodona</td>\n",
       "      <td>Encamp</td>\n",
       "      <td>AD</td>\n",
       "      <td>NaN</td>\n",
       "      <td>42.537213</td>\n",
       "      <td>1.727014</td>\n",
       "      <td>10</td>\n",
       "      <td>22.0</td>\n",
       "      <td>AC_HIGH_(22-49kW)</td>\n",
       "      <td>False</td>\n",
       "    </tr>\n",
       "    <tr>\n",
       "      <th>2</th>\n",
       "      <td>301206</td>\n",
       "      <td>Hotel Naudi</td>\n",
       "      <td>NaN</td>\n",
       "      <td>AD</td>\n",
       "      <td>NaN</td>\n",
       "      <td>42.576811</td>\n",
       "      <td>1.666061</td>\n",
       "      <td>1</td>\n",
       "      <td>11.0</td>\n",
       "      <td>AC_L2_(7.5-21kW)</td>\n",
       "      <td>False</td>\n",
       "    </tr>\n",
       "    <tr>\n",
       "      <th>3</th>\n",
       "      <td>301205</td>\n",
       "      <td>Hotel Piolets Soldeu Centre</td>\n",
       "      <td>NaN</td>\n",
       "      <td>AD</td>\n",
       "      <td>NaN</td>\n",
       "      <td>42.576466</td>\n",
       "      <td>1.667317</td>\n",
       "      <td>1</td>\n",
       "      <td>22.0</td>\n",
       "      <td>AC_HIGH_(22-49kW)</td>\n",
       "      <td>False</td>\n",
       "    </tr>\n",
       "    <tr>\n",
       "      <th>4</th>\n",
       "      <td>301204</td>\n",
       "      <td>Hotel Serras</td>\n",
       "      <td>NaN</td>\n",
       "      <td>AD</td>\n",
       "      <td>NaN</td>\n",
       "      <td>42.579458</td>\n",
       "      <td>1.659215</td>\n",
       "      <td>3</td>\n",
       "      <td>11.0</td>\n",
       "      <td>AC_L2_(7.5-21kW)</td>\n",
       "      <td>False</td>\n",
       "    </tr>\n",
       "  </tbody>\n",
       "</table>\n",
       "</div>"
      ],
      "text/plain": [
       "       id                         name     city country_code state_province  \\\n",
       "0  307660             Av. de Tarragona  Andorra           AD            NaN   \n",
       "1  301207        Parquing Costa Rodona   Encamp           AD            NaN   \n",
       "2  301206                  Hotel Naudi      NaN           AD            NaN   \n",
       "3  301205  Hotel Piolets Soldeu Centre      NaN           AD            NaN   \n",
       "4  301204                 Hotel Serras      NaN           AD            NaN   \n",
       "\n",
       "    latitude  longitude  ports  power_kw         power_class  is_fast_dc  \n",
       "0  42.505254   1.528861     10     300.0  DC_ULTRA_(>=150kW)        True  \n",
       "1  42.537213   1.727014     10      22.0   AC_HIGH_(22-49kW)       False  \n",
       "2  42.576811   1.666061      1      11.0    AC_L2_(7.5-21kW)       False  \n",
       "3  42.576466   1.667317      1      22.0   AC_HIGH_(22-49kW)       False  \n",
       "4  42.579458   1.659215      3      11.0    AC_L2_(7.5-21kW)       False  "
      ]
     },
     "execution_count": 13,
     "metadata": {},
     "output_type": "execute_result"
    }
   ],
   "source": [
    "charging_stations.head()"
   ]
  },
  {
   "cell_type": "code",
   "execution_count": null,
   "id": "6c464238-6f7e-44a9-bc6b-1969e3ed3f5e",
   "metadata": {},
   "outputs": [],
   "source": []
  },
  {
   "cell_type": "markdown",
   "id": "d5eba042-775c-43ab-baff-eef40b1fc2c2",
   "metadata": {},
   "source": [
    "## Charging_Stations"
   ]
  },
  {
   "cell_type": "markdown",
   "id": "2c6ddcdf-723f-48eb-b4a8-27c51b7df529",
   "metadata": {},
   "source": [
    "#### Check missing values"
   ]
  },
  {
   "cell_type": "code",
   "execution_count": 14,
   "id": "fefdb857-fb29-4c7e-8fd3-22a95f5c2193",
   "metadata": {},
   "outputs": [
    {
     "name": "stdout",
     "output_type": "stream",
     "text": [
      "Charging Stations:\n",
      " id                    0\n",
      "name                  0\n",
      "city              22189\n",
      "country_code          1\n",
      "state_province    69998\n",
      "latitude              0\n",
      "longitude             0\n",
      "ports                 0\n",
      "power_kw           4660\n",
      "power_class           0\n",
      "is_fast_dc            0\n",
      "dtype: int64 \n",
      "\n"
     ]
    }
   ],
   "source": [
    "print(\"Charging Stations:\\n\", charging_stations.isnull().sum(), \"\\n\")\n"
   ]
  },
  {
   "cell_type": "code",
   "execution_count": 15,
   "id": "814dd30f-fbbd-40d6-b79a-e1595a147242",
   "metadata": {},
   "outputs": [
    {
     "data": {
      "text/html": [
       "<div>\n",
       "<style scoped>\n",
       "    .dataframe tbody tr th:only-of-type {\n",
       "        vertical-align: middle;\n",
       "    }\n",
       "\n",
       "    .dataframe tbody tr th {\n",
       "        vertical-align: top;\n",
       "    }\n",
       "\n",
       "    .dataframe thead th {\n",
       "        text-align: right;\n",
       "    }\n",
       "</style>\n",
       "<table border=\"1\" class=\"dataframe\">\n",
       "  <thead>\n",
       "    <tr style=\"text-align: right;\">\n",
       "      <th></th>\n",
       "      <th>id</th>\n",
       "      <th>name</th>\n",
       "      <th>city</th>\n",
       "      <th>country_code</th>\n",
       "      <th>state_province</th>\n",
       "      <th>latitude</th>\n",
       "      <th>longitude</th>\n",
       "      <th>ports</th>\n",
       "      <th>power_kw</th>\n",
       "      <th>power_class</th>\n",
       "      <th>is_fast_dc</th>\n",
       "    </tr>\n",
       "  </thead>\n",
       "  <tbody>\n",
       "    <tr>\n",
       "      <th>0</th>\n",
       "      <td>False</td>\n",
       "      <td>False</td>\n",
       "      <td>False</td>\n",
       "      <td>False</td>\n",
       "      <td>True</td>\n",
       "      <td>False</td>\n",
       "      <td>False</td>\n",
       "      <td>False</td>\n",
       "      <td>False</td>\n",
       "      <td>False</td>\n",
       "      <td>False</td>\n",
       "    </tr>\n",
       "    <tr>\n",
       "      <th>1</th>\n",
       "      <td>False</td>\n",
       "      <td>False</td>\n",
       "      <td>False</td>\n",
       "      <td>False</td>\n",
       "      <td>True</td>\n",
       "      <td>False</td>\n",
       "      <td>False</td>\n",
       "      <td>False</td>\n",
       "      <td>False</td>\n",
       "      <td>False</td>\n",
       "      <td>False</td>\n",
       "    </tr>\n",
       "    <tr>\n",
       "      <th>2</th>\n",
       "      <td>False</td>\n",
       "      <td>False</td>\n",
       "      <td>True</td>\n",
       "      <td>False</td>\n",
       "      <td>True</td>\n",
       "      <td>False</td>\n",
       "      <td>False</td>\n",
       "      <td>False</td>\n",
       "      <td>False</td>\n",
       "      <td>False</td>\n",
       "      <td>False</td>\n",
       "    </tr>\n",
       "    <tr>\n",
       "      <th>3</th>\n",
       "      <td>False</td>\n",
       "      <td>False</td>\n",
       "      <td>True</td>\n",
       "      <td>False</td>\n",
       "      <td>True</td>\n",
       "      <td>False</td>\n",
       "      <td>False</td>\n",
       "      <td>False</td>\n",
       "      <td>False</td>\n",
       "      <td>False</td>\n",
       "      <td>False</td>\n",
       "    </tr>\n",
       "    <tr>\n",
       "      <th>4</th>\n",
       "      <td>False</td>\n",
       "      <td>False</td>\n",
       "      <td>True</td>\n",
       "      <td>False</td>\n",
       "      <td>True</td>\n",
       "      <td>False</td>\n",
       "      <td>False</td>\n",
       "      <td>False</td>\n",
       "      <td>False</td>\n",
       "      <td>False</td>\n",
       "      <td>False</td>\n",
       "    </tr>\n",
       "    <tr>\n",
       "      <th>...</th>\n",
       "      <td>...</td>\n",
       "      <td>...</td>\n",
       "      <td>...</td>\n",
       "      <td>...</td>\n",
       "      <td>...</td>\n",
       "      <td>...</td>\n",
       "      <td>...</td>\n",
       "      <td>...</td>\n",
       "      <td>...</td>\n",
       "      <td>...</td>\n",
       "      <td>...</td>\n",
       "    </tr>\n",
       "    <tr>\n",
       "      <th>242412</th>\n",
       "      <td>False</td>\n",
       "      <td>False</td>\n",
       "      <td>False</td>\n",
       "      <td>False</td>\n",
       "      <td>False</td>\n",
       "      <td>False</td>\n",
       "      <td>False</td>\n",
       "      <td>False</td>\n",
       "      <td>False</td>\n",
       "      <td>False</td>\n",
       "      <td>False</td>\n",
       "    </tr>\n",
       "    <tr>\n",
       "      <th>242413</th>\n",
       "      <td>False</td>\n",
       "      <td>False</td>\n",
       "      <td>False</td>\n",
       "      <td>False</td>\n",
       "      <td>False</td>\n",
       "      <td>False</td>\n",
       "      <td>False</td>\n",
       "      <td>False</td>\n",
       "      <td>False</td>\n",
       "      <td>False</td>\n",
       "      <td>False</td>\n",
       "    </tr>\n",
       "    <tr>\n",
       "      <th>242414</th>\n",
       "      <td>False</td>\n",
       "      <td>False</td>\n",
       "      <td>False</td>\n",
       "      <td>False</td>\n",
       "      <td>True</td>\n",
       "      <td>False</td>\n",
       "      <td>False</td>\n",
       "      <td>False</td>\n",
       "      <td>True</td>\n",
       "      <td>False</td>\n",
       "      <td>False</td>\n",
       "    </tr>\n",
       "    <tr>\n",
       "      <th>242415</th>\n",
       "      <td>False</td>\n",
       "      <td>False</td>\n",
       "      <td>False</td>\n",
       "      <td>False</td>\n",
       "      <td>False</td>\n",
       "      <td>False</td>\n",
       "      <td>False</td>\n",
       "      <td>False</td>\n",
       "      <td>True</td>\n",
       "      <td>False</td>\n",
       "      <td>False</td>\n",
       "    </tr>\n",
       "    <tr>\n",
       "      <th>242416</th>\n",
       "      <td>False</td>\n",
       "      <td>False</td>\n",
       "      <td>False</td>\n",
       "      <td>False</td>\n",
       "      <td>False</td>\n",
       "      <td>False</td>\n",
       "      <td>False</td>\n",
       "      <td>False</td>\n",
       "      <td>True</td>\n",
       "      <td>False</td>\n",
       "      <td>False</td>\n",
       "    </tr>\n",
       "  </tbody>\n",
       "</table>\n",
       "<p>242417 rows × 11 columns</p>\n",
       "</div>"
      ],
      "text/plain": [
       "           id   name   city  country_code  state_province  latitude  \\\n",
       "0       False  False  False         False            True     False   \n",
       "1       False  False  False         False            True     False   \n",
       "2       False  False   True         False            True     False   \n",
       "3       False  False   True         False            True     False   \n",
       "4       False  False   True         False            True     False   \n",
       "...       ...    ...    ...           ...             ...       ...   \n",
       "242412  False  False  False         False           False     False   \n",
       "242413  False  False  False         False           False     False   \n",
       "242414  False  False  False         False            True     False   \n",
       "242415  False  False  False         False           False     False   \n",
       "242416  False  False  False         False           False     False   \n",
       "\n",
       "        longitude  ports  power_kw  power_class  is_fast_dc  \n",
       "0           False  False     False        False       False  \n",
       "1           False  False     False        False       False  \n",
       "2           False  False     False        False       False  \n",
       "3           False  False     False        False       False  \n",
       "4           False  False     False        False       False  \n",
       "...           ...    ...       ...          ...         ...  \n",
       "242412      False  False     False        False       False  \n",
       "242413      False  False     False        False       False  \n",
       "242414      False  False      True        False       False  \n",
       "242415      False  False      True        False       False  \n",
       "242416      False  False      True        False       False  \n",
       "\n",
       "[242417 rows x 11 columns]"
      ]
     },
     "execution_count": 15,
     "metadata": {},
     "output_type": "execute_result"
    }
   ],
   "source": [
    "charging_stations.isnull()"
   ]
  },
  {
   "cell_type": "code",
   "execution_count": null,
   "id": "446626f0-9458-4996-9611-591c1d858dcd",
   "metadata": {},
   "outputs": [],
   "source": []
  },
  {
   "cell_type": "markdown",
   "id": "d571dcd5-d630-4f10-a444-420c69822520",
   "metadata": {},
   "source": [
    "####  Handling Missing Values"
   ]
  },
  {
   "cell_type": "markdown",
   "id": "642a7fe8-9a11-4140-aedc-b2cab9ded1e4",
   "metadata": {},
   "source": [
    "#####  Fill city and state_province missing values instead of dropping\n"
   ]
  },
  {
   "cell_type": "code",
   "execution_count": 16,
   "id": "180bab19-52dd-4bc0-8bed-1c471c2769b3",
   "metadata": {},
   "outputs": [
    {
     "name": "stderr",
     "output_type": "stream",
     "text": [
      "C:\\Users\\DELL\\AppData\\Local\\Temp\\ipykernel_3120\\3142846091.py:1: FutureWarning: A value is trying to be set on a copy of a DataFrame or Series through chained assignment using an inplace method.\n",
      "The behavior will change in pandas 3.0. This inplace method will never work because the intermediate object on which we are setting values always behaves as a copy.\n",
      "\n",
      "For example, when doing 'df[col].method(value, inplace=True)', try using 'df.method({col: value}, inplace=True)' or df[col] = df[col].method(value) instead, to perform the operation inplace on the original object.\n",
      "\n",
      "\n",
      "  charging_stations['city'].fillna(\"unknown City\",inplace=True)\n"
     ]
    }
   ],
   "source": [
    "charging_stations['city'].fillna(\"unknown City\",inplace=True)"
   ]
  },
  {
   "cell_type": "code",
   "execution_count": 17,
   "id": "51e96320-2b66-4f64-8052-263ab20a3ccc",
   "metadata": {},
   "outputs": [
    {
     "name": "stderr",
     "output_type": "stream",
     "text": [
      "C:\\Users\\DELL\\AppData\\Local\\Temp\\ipykernel_3120\\274613762.py:1: FutureWarning: A value is trying to be set on a copy of a DataFrame or Series through chained assignment using an inplace method.\n",
      "The behavior will change in pandas 3.0. This inplace method will never work because the intermediate object on which we are setting values always behaves as a copy.\n",
      "\n",
      "For example, when doing 'df[col].method(value, inplace=True)', try using 'df.method({col: value}, inplace=True)' or df[col] = df[col].method(value) instead, to perform the operation inplace on the original object.\n",
      "\n",
      "\n",
      "  charging_stations['state_province'].fillna(\"Unknown State\",inplace=True)\n"
     ]
    }
   ],
   "source": [
    "charging_stations['state_province'].fillna(\"Unknown State\",inplace=True)"
   ]
  },
  {
   "cell_type": "code",
   "execution_count": null,
   "id": "6f75d975-2ede-4009-bbb0-84cdc58e61cc",
   "metadata": {},
   "outputs": [],
   "source": []
  },
  {
   "cell_type": "markdown",
   "id": "b14d88be-5e50-42a5-b0d1-d949949b630d",
   "metadata": {},
   "source": [
    "##### country_code -> fill with mode\n"
   ]
  },
  {
   "cell_type": "code",
   "execution_count": 18,
   "id": "7b1b3c42-9fb4-4e1e-aa91-84d4a18ba6aa",
   "metadata": {},
   "outputs": [
    {
     "name": "stderr",
     "output_type": "stream",
     "text": [
      "C:\\Users\\DELL\\AppData\\Local\\Temp\\ipykernel_3120\\2213195890.py:1: FutureWarning: A value is trying to be set on a copy of a DataFrame or Series through chained assignment using an inplace method.\n",
      "The behavior will change in pandas 3.0. This inplace method will never work because the intermediate object on which we are setting values always behaves as a copy.\n",
      "\n",
      "For example, when doing 'df[col].method(value, inplace=True)', try using 'df.method({col: value}, inplace=True)' or df[col] = df[col].method(value) instead, to perform the operation inplace on the original object.\n",
      "\n",
      "\n",
      "  charging_stations[\"country_code\"].fillna(charging_stations['country_code'].mode()[0],inplace=True)\n"
     ]
    }
   ],
   "source": [
    "charging_stations[\"country_code\"].fillna(charging_stations['country_code'].mode()[0],inplace=True)"
   ]
  },
  {
   "cell_type": "code",
   "execution_count": null,
   "id": "36f966ad-ec67-4283-9b44-bf0019df1836",
   "metadata": {},
   "outputs": [],
   "source": []
  },
  {
   "cell_type": "markdown",
   "id": "6bb7b6ca-fb8d-4552-9244-38cd71c039d3",
   "metadata": {},
   "source": [
    "##### power_kw -> fill with median\n"
   ]
  },
  {
   "cell_type": "code",
   "execution_count": 19,
   "id": "ae03cb11-9a8a-4efa-92a9-fad7473aa080",
   "metadata": {},
   "outputs": [
    {
     "name": "stderr",
     "output_type": "stream",
     "text": [
      "C:\\Users\\DELL\\AppData\\Local\\Temp\\ipykernel_3120\\801585435.py:1: FutureWarning: A value is trying to be set on a copy of a DataFrame or Series through chained assignment using an inplace method.\n",
      "The behavior will change in pandas 3.0. This inplace method will never work because the intermediate object on which we are setting values always behaves as a copy.\n",
      "\n",
      "For example, when doing 'df[col].method(value, inplace=True)', try using 'df.method({col: value}, inplace=True)' or df[col] = df[col].method(value) instead, to perform the operation inplace on the original object.\n",
      "\n",
      "\n",
      "  charging_stations[\"power_kw\"].fillna(charging_stations['power_kw'].median(),inplace=True)\n"
     ]
    }
   ],
   "source": [
    "charging_stations[\"power_kw\"].fillna(charging_stations['power_kw'].median(),inplace=True)"
   ]
  },
  {
   "cell_type": "code",
   "execution_count": 20,
   "id": "8f5f1e9c-c07f-4992-9ea6-2073cb4d6e9c",
   "metadata": {},
   "outputs": [],
   "source": [
    "charging_stations['state_province'] = charging_stations['state_province'].fillna(\"Unknown State\")\n"
   ]
  },
  {
   "cell_type": "code",
   "execution_count": 21,
   "id": "8b87519c-9a21-486f-b4c7-aba3260a1f20",
   "metadata": {},
   "outputs": [
    {
     "data": {
      "text/plain": [
       "id                0\n",
       "name              0\n",
       "city              0\n",
       "country_code      0\n",
       "state_province    0\n",
       "latitude          0\n",
       "longitude         0\n",
       "ports             0\n",
       "power_kw          0\n",
       "power_class       0\n",
       "is_fast_dc        0\n",
       "dtype: int64"
      ]
     },
     "execution_count": 21,
     "metadata": {},
     "output_type": "execute_result"
    }
   ],
   "source": [
    "# Check again\n",
    "charging_stations.isnull().sum()\n"
   ]
  },
  {
   "cell_type": "code",
   "execution_count": 22,
   "id": "8b269df5-c799-4795-b240-d9a8c49fc73e",
   "metadata": {},
   "outputs": [
    {
     "name": "stderr",
     "output_type": "stream",
     "text": [
      "C:\\Users\\DELL\\AppData\\Local\\Temp\\ipykernel_3120\\189500374.py:1: FutureWarning: A value is trying to be set on a copy of a DataFrame or Series through chained assignment using an inplace method.\n",
      "The behavior will change in pandas 3.0. This inplace method will never work because the intermediate object on which we are setting values always behaves as a copy.\n",
      "\n",
      "For example, when doing 'df[col].method(value, inplace=True)', try using 'df.method({col: value}, inplace=True)' or df[col] = df[col].method(value) instead, to perform the operation inplace on the original object.\n",
      "\n",
      "\n",
      "  charging_stations['power_kw'].fillna(charging_stations['power_kw'].median(), inplace=True)\n"
     ]
    }
   ],
   "source": [
    "charging_stations['power_kw'].fillna(charging_stations['power_kw'].median(), inplace=True)\n"
   ]
  },
  {
   "cell_type": "code",
   "execution_count": 71,
   "id": "9433a498-ee1d-4432-9e70-03f2ddf80e96",
   "metadata": {},
   "outputs": [],
   "source": []
  },
  {
   "cell_type": "code",
   "execution_count": 72,
   "id": "bcb5e5fb-b41b-4ad7-8984-e61a145a97b1",
   "metadata": {},
   "outputs": [],
   "source": []
  },
  {
   "cell_type": "code",
   "execution_count": null,
   "id": "abbc7504-9da3-47e3-ac16-a757324be214",
   "metadata": {},
   "outputs": [],
   "source": []
  },
  {
   "cell_type": "markdown",
   "id": "465ea732-f035-494f-b33c-15d8f46a0274",
   "metadata": {},
   "source": [
    "### Check duplicates\n"
   ]
  },
  {
   "cell_type": "code",
   "execution_count": 23,
   "id": "f5f78e09-ed91-43a7-a431-b80cd6fb140f",
   "metadata": {},
   "outputs": [
    {
     "data": {
      "text/plain": [
       "np.int64(0)"
      ]
     },
     "execution_count": 23,
     "metadata": {},
     "output_type": "execute_result"
    }
   ],
   "source": [
    "charging_stations.duplicated().sum()"
   ]
  },
  {
   "cell_type": "code",
   "execution_count": null,
   "id": "f2b8f4ed-8880-4750-9a05-69aa050af009",
   "metadata": {},
   "outputs": [],
   "source": []
  },
  {
   "cell_type": "markdown",
   "id": "57776039-7b10-4a0f-9081-a29114a6bcc9",
   "metadata": {},
   "source": [
    "### Check data types\n"
   ]
  },
  {
   "cell_type": "code",
   "execution_count": 24,
   "id": "0ea226f7-88de-44ce-928c-bfe782c347ec",
   "metadata": {},
   "outputs": [
    {
     "data": {
      "text/plain": [
       "id                  int64\n",
       "name               object\n",
       "city               object\n",
       "country_code       object\n",
       "state_province     object\n",
       "latitude          float64\n",
       "longitude         float64\n",
       "ports               int64\n",
       "power_kw          float64\n",
       "power_class        object\n",
       "is_fast_dc           bool\n",
       "dtype: object"
      ]
     },
     "execution_count": 24,
     "metadata": {},
     "output_type": "execute_result"
    }
   ],
   "source": [
    "charging_stations.dtypes"
   ]
  },
  {
   "cell_type": "code",
   "execution_count": null,
   "id": "5f2561d0-a0f2-44b9-a293-ac6d77228bba",
   "metadata": {},
   "outputs": [],
   "source": []
  },
  {
   "cell_type": "code",
   "execution_count": 25,
   "id": "1b7fac5b-5515-4124-aed3-6e372646f71e",
   "metadata": {},
   "outputs": [
    {
     "data": {
      "text/html": [
       "<div>\n",
       "<style scoped>\n",
       "    .dataframe tbody tr th:only-of-type {\n",
       "        vertical-align: middle;\n",
       "    }\n",
       "\n",
       "    .dataframe tbody tr th {\n",
       "        vertical-align: top;\n",
       "    }\n",
       "\n",
       "    .dataframe thead th {\n",
       "        text-align: right;\n",
       "    }\n",
       "</style>\n",
       "<table border=\"1\" class=\"dataframe\">\n",
       "  <thead>\n",
       "    <tr style=\"text-align: right;\">\n",
       "      <th></th>\n",
       "      <th>id</th>\n",
       "      <th>name</th>\n",
       "      <th>city</th>\n",
       "      <th>country_code</th>\n",
       "      <th>state_province</th>\n",
       "      <th>latitude</th>\n",
       "      <th>longitude</th>\n",
       "      <th>ports</th>\n",
       "      <th>power_kw</th>\n",
       "      <th>power_class</th>\n",
       "      <th>is_fast_dc</th>\n",
       "    </tr>\n",
       "  </thead>\n",
       "  <tbody>\n",
       "    <tr>\n",
       "      <th>0</th>\n",
       "      <td>307660</td>\n",
       "      <td>Av. de Tarragona</td>\n",
       "      <td>Andorra</td>\n",
       "      <td>AD</td>\n",
       "      <td>Unknown State</td>\n",
       "      <td>42.505254</td>\n",
       "      <td>1.528861</td>\n",
       "      <td>10</td>\n",
       "      <td>300.0</td>\n",
       "      <td>DC_ULTRA_(&gt;=150kW)</td>\n",
       "      <td>True</td>\n",
       "    </tr>\n",
       "    <tr>\n",
       "      <th>1</th>\n",
       "      <td>301207</td>\n",
       "      <td>Parquing Costa Rodona</td>\n",
       "      <td>Encamp</td>\n",
       "      <td>AD</td>\n",
       "      <td>Unknown State</td>\n",
       "      <td>42.537213</td>\n",
       "      <td>1.727014</td>\n",
       "      <td>10</td>\n",
       "      <td>22.0</td>\n",
       "      <td>AC_HIGH_(22-49kW)</td>\n",
       "      <td>False</td>\n",
       "    </tr>\n",
       "    <tr>\n",
       "      <th>2</th>\n",
       "      <td>301206</td>\n",
       "      <td>Hotel Naudi</td>\n",
       "      <td>unknown City</td>\n",
       "      <td>AD</td>\n",
       "      <td>Unknown State</td>\n",
       "      <td>42.576811</td>\n",
       "      <td>1.666061</td>\n",
       "      <td>1</td>\n",
       "      <td>11.0</td>\n",
       "      <td>AC_L2_(7.5-21kW)</td>\n",
       "      <td>False</td>\n",
       "    </tr>\n",
       "    <tr>\n",
       "      <th>3</th>\n",
       "      <td>301205</td>\n",
       "      <td>Hotel Piolets Soldeu Centre</td>\n",
       "      <td>unknown City</td>\n",
       "      <td>AD</td>\n",
       "      <td>Unknown State</td>\n",
       "      <td>42.576466</td>\n",
       "      <td>1.667317</td>\n",
       "      <td>1</td>\n",
       "      <td>22.0</td>\n",
       "      <td>AC_HIGH_(22-49kW)</td>\n",
       "      <td>False</td>\n",
       "    </tr>\n",
       "    <tr>\n",
       "      <th>4</th>\n",
       "      <td>301204</td>\n",
       "      <td>Hotel Serras</td>\n",
       "      <td>unknown City</td>\n",
       "      <td>AD</td>\n",
       "      <td>Unknown State</td>\n",
       "      <td>42.579458</td>\n",
       "      <td>1.659215</td>\n",
       "      <td>3</td>\n",
       "      <td>11.0</td>\n",
       "      <td>AC_L2_(7.5-21kW)</td>\n",
       "      <td>False</td>\n",
       "    </tr>\n",
       "  </tbody>\n",
       "</table>\n",
       "</div>"
      ],
      "text/plain": [
       "       id                         name          city country_code  \\\n",
       "0  307660             Av. de Tarragona       Andorra           AD   \n",
       "1  301207        Parquing Costa Rodona        Encamp           AD   \n",
       "2  301206                  Hotel Naudi  unknown City           AD   \n",
       "3  301205  Hotel Piolets Soldeu Centre  unknown City           AD   \n",
       "4  301204                 Hotel Serras  unknown City           AD   \n",
       "\n",
       "  state_province   latitude  longitude  ports  power_kw         power_class  \\\n",
       "0  Unknown State  42.505254   1.528861     10     300.0  DC_ULTRA_(>=150kW)   \n",
       "1  Unknown State  42.537213   1.727014     10      22.0   AC_HIGH_(22-49kW)   \n",
       "2  Unknown State  42.576811   1.666061      1      11.0    AC_L2_(7.5-21kW)   \n",
       "3  Unknown State  42.576466   1.667317      1      22.0   AC_HIGH_(22-49kW)   \n",
       "4  Unknown State  42.579458   1.659215      3      11.0    AC_L2_(7.5-21kW)   \n",
       "\n",
       "   is_fast_dc  \n",
       "0        True  \n",
       "1       False  \n",
       "2       False  \n",
       "3       False  \n",
       "4       False  "
      ]
     },
     "execution_count": 25,
     "metadata": {},
     "output_type": "execute_result"
    }
   ],
   "source": [
    "charging_stations.head()"
   ]
  },
  {
   "cell_type": "code",
   "execution_count": null,
   "id": "af809334-a0a8-4e8d-8f2a-cc4d8f0bb79c",
   "metadata": {},
   "outputs": [],
   "source": []
  },
  {
   "cell_type": "markdown",
   "id": "fa5ef4a9-0480-4a78-a8f6-4af1fe04194c",
   "metadata": {},
   "source": [
    "## country_summary"
   ]
  },
  {
   "cell_type": "code",
   "execution_count": 26,
   "id": "60e87b7d-059f-46bd-ab17-69aecf79d57d",
   "metadata": {},
   "outputs": [
    {
     "data": {
      "text/html": [
       "<div>\n",
       "<style scoped>\n",
       "    .dataframe tbody tr th:only-of-type {\n",
       "        vertical-align: middle;\n",
       "    }\n",
       "\n",
       "    .dataframe tbody tr th {\n",
       "        vertical-align: top;\n",
       "    }\n",
       "\n",
       "    .dataframe thead th {\n",
       "        text-align: right;\n",
       "    }\n",
       "</style>\n",
       "<table border=\"1\" class=\"dataframe\">\n",
       "  <thead>\n",
       "    <tr style=\"text-align: right;\">\n",
       "      <th></th>\n",
       "      <th>country_code</th>\n",
       "      <th>stations</th>\n",
       "    </tr>\n",
       "  </thead>\n",
       "  <tbody>\n",
       "    <tr>\n",
       "      <th>0</th>\n",
       "      <td>US</td>\n",
       "      <td>82138</td>\n",
       "    </tr>\n",
       "    <tr>\n",
       "      <th>1</th>\n",
       "      <td>GB</td>\n",
       "      <td>26825</td>\n",
       "    </tr>\n",
       "    <tr>\n",
       "      <th>2</th>\n",
       "      <td>DE</td>\n",
       "      <td>23373</td>\n",
       "    </tr>\n",
       "    <tr>\n",
       "      <th>3</th>\n",
       "      <td>ES</td>\n",
       "      <td>17825</td>\n",
       "    </tr>\n",
       "    <tr>\n",
       "      <th>4</th>\n",
       "      <td>CA</td>\n",
       "      <td>16490</td>\n",
       "    </tr>\n",
       "  </tbody>\n",
       "</table>\n",
       "</div>"
      ],
      "text/plain": [
       "  country_code  stations\n",
       "0           US     82138\n",
       "1           GB     26825\n",
       "2           DE     23373\n",
       "3           ES     17825\n",
       "4           CA     16490"
      ]
     },
     "execution_count": 26,
     "metadata": {},
     "output_type": "execute_result"
    }
   ],
   "source": [
    "country_summary.head()"
   ]
  },
  {
   "cell_type": "markdown",
   "id": "ebb0294d-b3f7-48fd-9944-b1965f64a314",
   "metadata": {},
   "source": [
    "#### Check null values "
   ]
  },
  {
   "cell_type": "code",
   "execution_count": 27,
   "id": "de10adac-c2c2-421b-8b4f-51ae3b86f230",
   "metadata": {},
   "outputs": [
    {
     "data": {
      "text/plain": [
       "country_code    1\n",
       "stations        0\n",
       "dtype: int64"
      ]
     },
     "execution_count": 27,
     "metadata": {},
     "output_type": "execute_result"
    }
   ],
   "source": [
    "country_summary.isnull().sum()"
   ]
  },
  {
   "cell_type": "code",
   "execution_count": 22,
   "id": "6c77fd46-628d-46c3-abd2-f90ddf8ca4db",
   "metadata": {},
   "outputs": [
    {
     "name": "stdout",
     "output_type": "stream",
     "text": [
      "country_code    0\n",
      "stations        0\n",
      "dtype: int64\n"
     ]
    }
   ],
   "source": [
    "# fill all columns by mode\n",
    "for col in country_summary.columns:\n",
    "    country_summary[col] = country_summary[col].fillna(country_summary[col].mode()[0])\n",
    "\n",
    "# check again missing values\n",
    "print(country_summary.isnull().sum())\n"
   ]
  },
  {
   "cell_type": "code",
   "execution_count": null,
   "id": "a4d9a073-7ad9-42aa-96a5-57e8855f85e6",
   "metadata": {},
   "outputs": [],
   "source": []
  },
  {
   "cell_type": "code",
   "execution_count": null,
   "id": "a4c6ad8b-f3ea-44ce-a162-61b59fa70db7",
   "metadata": {},
   "outputs": [],
   "source": []
  },
  {
   "cell_type": "markdown",
   "id": "90076244-6613-4619-b81a-12219d985bc1",
   "metadata": {},
   "source": [
    "#### check suplicates"
   ]
  },
  {
   "cell_type": "code",
   "execution_count": 28,
   "id": "76aef59e-f583-4721-8416-68b314df6a07",
   "metadata": {},
   "outputs": [
    {
     "data": {
      "text/plain": [
       "<bound method DataFrame.duplicated of     country_code  stations\n",
       "0             US     82138\n",
       "1             GB     26825\n",
       "2             DE     23373\n",
       "3             ES     17825\n",
       "4             CA     16490\n",
       "..           ...       ...\n",
       "117           UZ         1\n",
       "118           MM         1\n",
       "119           GT         1\n",
       "120           KG         1\n",
       "121           LC         1\n",
       "\n",
       "[122 rows x 2 columns]>"
      ]
     },
     "execution_count": 28,
     "metadata": {},
     "output_type": "execute_result"
    }
   ],
   "source": [
    "country_summary.duplicated"
   ]
  },
  {
   "cell_type": "code",
   "execution_count": 29,
   "id": "4ee3d866-9c0c-431b-8450-ba1ec09f6dc9",
   "metadata": {},
   "outputs": [
    {
     "data": {
      "text/plain": [
       "np.int64(0)"
      ]
     },
     "execution_count": 29,
     "metadata": {},
     "output_type": "execute_result"
    }
   ],
   "source": [
    "country_summary.duplicated().sum()"
   ]
  },
  {
   "cell_type": "code",
   "execution_count": null,
   "id": "bde112ae-06ca-4221-8a66-9e3be1d6f3b1",
   "metadata": {},
   "outputs": [],
   "source": []
  },
  {
   "cell_type": "markdown",
   "id": "8d0b497b-1f29-40ec-a4fa-226c0290643a",
   "metadata": {},
   "source": [
    "#### check datatypes"
   ]
  },
  {
   "cell_type": "code",
   "execution_count": 30,
   "id": "e012db86-34b6-4a17-8a81-53b6dcc20e7d",
   "metadata": {},
   "outputs": [
    {
     "data": {
      "text/plain": [
       "country_code    object\n",
       "stations         int64\n",
       "dtype: object"
      ]
     },
     "execution_count": 30,
     "metadata": {},
     "output_type": "execute_result"
    }
   ],
   "source": [
    "country_summary.dtypes"
   ]
  },
  {
   "cell_type": "code",
   "execution_count": null,
   "id": "4465750d-1ba5-4219-b1d6-2a6aab0c1d38",
   "metadata": {},
   "outputs": [],
   "source": []
  },
  {
   "cell_type": "markdown",
   "id": "7ca67cb7-8a99-4545-b48d-7c67dd544ac0",
   "metadata": {},
   "source": [
    "## ev_models"
   ]
  },
  {
   "cell_type": "code",
   "execution_count": 31,
   "id": "78ed4af9-e0be-49b6-a094-8658d0b8c5fb",
   "metadata": {},
   "outputs": [
    {
     "data": {
      "text/html": [
       "<div>\n",
       "<style scoped>\n",
       "    .dataframe tbody tr th:only-of-type {\n",
       "        vertical-align: middle;\n",
       "    }\n",
       "\n",
       "    .dataframe tbody tr th {\n",
       "        vertical-align: top;\n",
       "    }\n",
       "\n",
       "    .dataframe thead th {\n",
       "        text-align: right;\n",
       "    }\n",
       "</style>\n",
       "<table border=\"1\" class=\"dataframe\">\n",
       "  <thead>\n",
       "    <tr style=\"text-align: right;\">\n",
       "      <th></th>\n",
       "      <th>make</th>\n",
       "      <th>model</th>\n",
       "      <th>market_regions</th>\n",
       "      <th>powertrain</th>\n",
       "      <th>first_year</th>\n",
       "      <th>body_style</th>\n",
       "      <th>origin_country</th>\n",
       "    </tr>\n",
       "  </thead>\n",
       "  <tbody>\n",
       "    <tr>\n",
       "      <th>0</th>\n",
       "      <td>Tesla</td>\n",
       "      <td>Model S</td>\n",
       "      <td>Global (US/EU/UK/ME)</td>\n",
       "      <td>BEV</td>\n",
       "      <td>2012</td>\n",
       "      <td>Sedan</td>\n",
       "      <td>US</td>\n",
       "    </tr>\n",
       "    <tr>\n",
       "      <th>1</th>\n",
       "      <td>Tesla</td>\n",
       "      <td>Model 3</td>\n",
       "      <td>Global (US/EU/UK/ME/CN)</td>\n",
       "      <td>BEV</td>\n",
       "      <td>2017</td>\n",
       "      <td>Sedan</td>\n",
       "      <td>US</td>\n",
       "    </tr>\n",
       "    <tr>\n",
       "      <th>2</th>\n",
       "      <td>Tesla</td>\n",
       "      <td>Model X</td>\n",
       "      <td>Global (US/EU/UK/ME)</td>\n",
       "      <td>BEV</td>\n",
       "      <td>2015</td>\n",
       "      <td>SUV</td>\n",
       "      <td>US</td>\n",
       "    </tr>\n",
       "    <tr>\n",
       "      <th>3</th>\n",
       "      <td>Tesla</td>\n",
       "      <td>Model Y</td>\n",
       "      <td>Global (US/EU/UK/ME/CN)</td>\n",
       "      <td>BEV</td>\n",
       "      <td>2020</td>\n",
       "      <td>SUV</td>\n",
       "      <td>US</td>\n",
       "    </tr>\n",
       "    <tr>\n",
       "      <th>4</th>\n",
       "      <td>Tesla</td>\n",
       "      <td>Cybertruck</td>\n",
       "      <td>US (limited)</td>\n",
       "      <td>BEV</td>\n",
       "      <td>2023</td>\n",
       "      <td>Pickup</td>\n",
       "      <td>US</td>\n",
       "    </tr>\n",
       "  </tbody>\n",
       "</table>\n",
       "</div>"
      ],
      "text/plain": [
       "    make       model           market_regions powertrain  first_year  \\\n",
       "0  Tesla     Model S     Global (US/EU/UK/ME)        BEV        2012   \n",
       "1  Tesla     Model 3  Global (US/EU/UK/ME/CN)        BEV        2017   \n",
       "2  Tesla     Model X     Global (US/EU/UK/ME)        BEV        2015   \n",
       "3  Tesla     Model Y  Global (US/EU/UK/ME/CN)        BEV        2020   \n",
       "4  Tesla  Cybertruck             US (limited)        BEV        2023   \n",
       "\n",
       "  body_style origin_country  \n",
       "0      Sedan             US  \n",
       "1      Sedan             US  \n",
       "2        SUV             US  \n",
       "3        SUV             US  \n",
       "4     Pickup             US  "
      ]
     },
     "execution_count": 31,
     "metadata": {},
     "output_type": "execute_result"
    }
   ],
   "source": [
    "ev_models.head()"
   ]
  },
  {
   "cell_type": "code",
   "execution_count": null,
   "id": "0a54b0b2-a0c7-482a-8a83-600043c6c174",
   "metadata": {},
   "outputs": [],
   "source": []
  },
  {
   "cell_type": "markdown",
   "id": "ab158b91-237a-4cdc-8f21-7c15a204d6a8",
   "metadata": {},
   "source": [
    "#### check null values"
   ]
  },
  {
   "cell_type": "code",
   "execution_count": 32,
   "id": "f88ecdec-46fa-42c3-87e3-64b2fcae5872",
   "metadata": {},
   "outputs": [
    {
     "data": {
      "text/html": [
       "<div>\n",
       "<style scoped>\n",
       "    .dataframe tbody tr th:only-of-type {\n",
       "        vertical-align: middle;\n",
       "    }\n",
       "\n",
       "    .dataframe tbody tr th {\n",
       "        vertical-align: top;\n",
       "    }\n",
       "\n",
       "    .dataframe thead th {\n",
       "        text-align: right;\n",
       "    }\n",
       "</style>\n",
       "<table border=\"1\" class=\"dataframe\">\n",
       "  <thead>\n",
       "    <tr style=\"text-align: right;\">\n",
       "      <th></th>\n",
       "      <th>make</th>\n",
       "      <th>model</th>\n",
       "      <th>market_regions</th>\n",
       "      <th>powertrain</th>\n",
       "      <th>first_year</th>\n",
       "      <th>body_style</th>\n",
       "      <th>origin_country</th>\n",
       "    </tr>\n",
       "  </thead>\n",
       "  <tbody>\n",
       "    <tr>\n",
       "      <th>0</th>\n",
       "      <td>False</td>\n",
       "      <td>False</td>\n",
       "      <td>False</td>\n",
       "      <td>False</td>\n",
       "      <td>False</td>\n",
       "      <td>False</td>\n",
       "      <td>False</td>\n",
       "    </tr>\n",
       "    <tr>\n",
       "      <th>1</th>\n",
       "      <td>False</td>\n",
       "      <td>False</td>\n",
       "      <td>False</td>\n",
       "      <td>False</td>\n",
       "      <td>False</td>\n",
       "      <td>False</td>\n",
       "      <td>False</td>\n",
       "    </tr>\n",
       "    <tr>\n",
       "      <th>2</th>\n",
       "      <td>False</td>\n",
       "      <td>False</td>\n",
       "      <td>False</td>\n",
       "      <td>False</td>\n",
       "      <td>False</td>\n",
       "      <td>False</td>\n",
       "      <td>False</td>\n",
       "    </tr>\n",
       "    <tr>\n",
       "      <th>3</th>\n",
       "      <td>False</td>\n",
       "      <td>False</td>\n",
       "      <td>False</td>\n",
       "      <td>False</td>\n",
       "      <td>False</td>\n",
       "      <td>False</td>\n",
       "      <td>False</td>\n",
       "    </tr>\n",
       "    <tr>\n",
       "      <th>4</th>\n",
       "      <td>False</td>\n",
       "      <td>False</td>\n",
       "      <td>False</td>\n",
       "      <td>False</td>\n",
       "      <td>False</td>\n",
       "      <td>False</td>\n",
       "      <td>False</td>\n",
       "    </tr>\n",
       "    <tr>\n",
       "      <th>...</th>\n",
       "      <td>...</td>\n",
       "      <td>...</td>\n",
       "      <td>...</td>\n",
       "      <td>...</td>\n",
       "      <td>...</td>\n",
       "      <td>...</td>\n",
       "      <td>...</td>\n",
       "    </tr>\n",
       "    <tr>\n",
       "      <th>58</th>\n",
       "      <td>False</td>\n",
       "      <td>False</td>\n",
       "      <td>False</td>\n",
       "      <td>False</td>\n",
       "      <td>False</td>\n",
       "      <td>False</td>\n",
       "      <td>False</td>\n",
       "    </tr>\n",
       "    <tr>\n",
       "      <th>59</th>\n",
       "      <td>False</td>\n",
       "      <td>False</td>\n",
       "      <td>False</td>\n",
       "      <td>False</td>\n",
       "      <td>False</td>\n",
       "      <td>False</td>\n",
       "      <td>False</td>\n",
       "    </tr>\n",
       "    <tr>\n",
       "      <th>60</th>\n",
       "      <td>False</td>\n",
       "      <td>False</td>\n",
       "      <td>False</td>\n",
       "      <td>False</td>\n",
       "      <td>False</td>\n",
       "      <td>False</td>\n",
       "      <td>False</td>\n",
       "    </tr>\n",
       "    <tr>\n",
       "      <th>61</th>\n",
       "      <td>False</td>\n",
       "      <td>False</td>\n",
       "      <td>False</td>\n",
       "      <td>False</td>\n",
       "      <td>False</td>\n",
       "      <td>False</td>\n",
       "      <td>False</td>\n",
       "    </tr>\n",
       "    <tr>\n",
       "      <th>62</th>\n",
       "      <td>False</td>\n",
       "      <td>False</td>\n",
       "      <td>False</td>\n",
       "      <td>False</td>\n",
       "      <td>False</td>\n",
       "      <td>False</td>\n",
       "      <td>False</td>\n",
       "    </tr>\n",
       "  </tbody>\n",
       "</table>\n",
       "<p>63 rows × 7 columns</p>\n",
       "</div>"
      ],
      "text/plain": [
       "     make  model  market_regions  powertrain  first_year  body_style  \\\n",
       "0   False  False           False       False       False       False   \n",
       "1   False  False           False       False       False       False   \n",
       "2   False  False           False       False       False       False   \n",
       "3   False  False           False       False       False       False   \n",
       "4   False  False           False       False       False       False   \n",
       "..    ...    ...             ...         ...         ...         ...   \n",
       "58  False  False           False       False       False       False   \n",
       "59  False  False           False       False       False       False   \n",
       "60  False  False           False       False       False       False   \n",
       "61  False  False           False       False       False       False   \n",
       "62  False  False           False       False       False       False   \n",
       "\n",
       "    origin_country  \n",
       "0            False  \n",
       "1            False  \n",
       "2            False  \n",
       "3            False  \n",
       "4            False  \n",
       "..             ...  \n",
       "58           False  \n",
       "59           False  \n",
       "60           False  \n",
       "61           False  \n",
       "62           False  \n",
       "\n",
       "[63 rows x 7 columns]"
      ]
     },
     "execution_count": 32,
     "metadata": {},
     "output_type": "execute_result"
    }
   ],
   "source": [
    "ev_models.isnull()"
   ]
  },
  {
   "cell_type": "code",
   "execution_count": 33,
   "id": "2496f901-c2ea-4a88-b8f5-7952d141fa1b",
   "metadata": {},
   "outputs": [
    {
     "data": {
      "text/plain": [
       "make              0\n",
       "model             0\n",
       "market_regions    0\n",
       "powertrain        5\n",
       "first_year        0\n",
       "body_style        0\n",
       "origin_country    0\n",
       "dtype: int64"
      ]
     },
     "execution_count": 33,
     "metadata": {},
     "output_type": "execute_result"
    }
   ],
   "source": [
    "ev_models.isnull().sum()"
   ]
  },
  {
   "cell_type": "code",
   "execution_count": 34,
   "id": "7e40808c-6c00-4c51-a9b1-e38845547828",
   "metadata": {},
   "outputs": [
    {
     "name": "stderr",
     "output_type": "stream",
     "text": [
      "C:\\Users\\DELL\\AppData\\Local\\Temp\\ipykernel_3120\\93370138.py:1: FutureWarning: A value is trying to be set on a copy of a DataFrame or Series through chained assignment using an inplace method.\n",
      "The behavior will change in pandas 3.0. This inplace method will never work because the intermediate object on which we are setting values always behaves as a copy.\n",
      "\n",
      "For example, when doing 'df[col].method(value, inplace=True)', try using 'df.method({col: value}, inplace=True)' or df[col] = df[col].method(value) instead, to perform the operation inplace on the original object.\n",
      "\n",
      "\n",
      "  ev_models[\"powertrain\"].fillna(ev_models['powertrain'].mode()[0],inplace=True)\n"
     ]
    }
   ],
   "source": [
    "ev_models[\"powertrain\"].fillna(ev_models['powertrain'].mode()[0],inplace=True)"
   ]
  },
  {
   "cell_type": "code",
   "execution_count": 35,
   "id": "444b6833-6ee6-4746-a487-ec6ac51aa896",
   "metadata": {},
   "outputs": [
    {
     "data": {
      "text/plain": [
       "make              0\n",
       "model             0\n",
       "market_regions    0\n",
       "powertrain        0\n",
       "first_year        0\n",
       "body_style        0\n",
       "origin_country    0\n",
       "dtype: int64"
      ]
     },
     "execution_count": 35,
     "metadata": {},
     "output_type": "execute_result"
    }
   ],
   "source": [
    "ev_models.isnull().sum()"
   ]
  },
  {
   "cell_type": "markdown",
   "id": "4b00ecf6-2b6b-4fcd-9a28-85a2873c8751",
   "metadata": {},
   "source": [
    "### check duplicate values "
   ]
  },
  {
   "cell_type": "code",
   "execution_count": 36,
   "id": "7f537f71-8da9-4b90-8d8a-161e6fbca985",
   "metadata": {},
   "outputs": [
    {
     "data": {
      "text/plain": [
       "<bound method DataFrame.duplicated of      make       model           market_regions powertrain  first_year  \\\n",
       "0   Tesla     Model S     Global (US/EU/UK/ME)        BEV        2012   \n",
       "1   Tesla     Model 3  Global (US/EU/UK/ME/CN)        BEV        2017   \n",
       "2   Tesla     Model X     Global (US/EU/UK/ME)        BEV        2015   \n",
       "3   Tesla     Model Y  Global (US/EU/UK/ME/CN)        BEV        2020   \n",
       "4   Tesla  Cybertruck             US (limited)        BEV        2023   \n",
       "..    ...         ...                      ...        ...         ...   \n",
       "58    NIO         ET7           CN/EU (select)        BEV        2021   \n",
       "59    NIO         ES6           CN/EU (select)        BEV        2019   \n",
       "60  XPeng          P7           CN/EU (select)        BEV        2019   \n",
       "61  XPeng          G9           CN/EU (select)        BEV        2022   \n",
       "62  Smart          #1                 EU/UK/CN        BEV        2022   \n",
       "\n",
       "   body_style origin_country  \n",
       "0       Sedan             US  \n",
       "1       Sedan             US  \n",
       "2         SUV             US  \n",
       "3         SUV             US  \n",
       "4      Pickup             US  \n",
       "..        ...            ...  \n",
       "58      Sedan             CN  \n",
       "59        SUV             CN  \n",
       "60      Sedan             CN  \n",
       "61        SUV             CN  \n",
       "62        SUV          CN/DE  \n",
       "\n",
       "[63 rows x 7 columns]>"
      ]
     },
     "execution_count": 36,
     "metadata": {},
     "output_type": "execute_result"
    }
   ],
   "source": [
    "ev_models.duplicated"
   ]
  },
  {
   "cell_type": "code",
   "execution_count": 37,
   "id": "32ab376c-ccbd-42fc-96b1-8ccb177c84d7",
   "metadata": {},
   "outputs": [
    {
     "data": {
      "text/plain": [
       "np.int64(0)"
      ]
     },
     "execution_count": 37,
     "metadata": {},
     "output_type": "execute_result"
    }
   ],
   "source": [
    "ev_models.duplicated().sum()"
   ]
  },
  {
   "cell_type": "markdown",
   "id": "8e5add28-3e33-47da-814a-04cfe6be6312",
   "metadata": {},
   "source": [
    "### check data types "
   ]
  },
  {
   "cell_type": "code",
   "execution_count": 38,
   "id": "a8a47428-8b4e-4977-becb-ca833975c6ef",
   "metadata": {},
   "outputs": [
    {
     "data": {
      "text/plain": [
       "make              object\n",
       "model             object\n",
       "market_regions    object\n",
       "powertrain        object\n",
       "first_year         int64\n",
       "body_style        object\n",
       "origin_country    object\n",
       "dtype: object"
      ]
     },
     "execution_count": 38,
     "metadata": {},
     "output_type": "execute_result"
    }
   ],
   "source": [
    "ev_models.dtypes"
   ]
  },
  {
   "cell_type": "code",
   "execution_count": null,
   "id": "e18e3fbc-a4b6-44b6-b67a-fe62306eb132",
   "metadata": {},
   "outputs": [],
   "source": []
  },
  {
   "cell_type": "markdown",
   "id": "f390e45d-f173-4058-8373-e371b002ad0b",
   "metadata": {},
   "source": [
    "### world_summary"
   ]
  },
  {
   "cell_type": "code",
   "execution_count": 39,
   "id": "19d12358-7c41-488e-b260-02c4acacad36",
   "metadata": {},
   "outputs": [
    {
     "data": {
      "text/html": [
       "<div>\n",
       "<style scoped>\n",
       "    .dataframe tbody tr th:only-of-type {\n",
       "        vertical-align: middle;\n",
       "    }\n",
       "\n",
       "    .dataframe tbody tr th {\n",
       "        vertical-align: top;\n",
       "    }\n",
       "\n",
       "    .dataframe thead th {\n",
       "        text-align: right;\n",
       "    }\n",
       "</style>\n",
       "<table border=\"1\" class=\"dataframe\">\n",
       "  <thead>\n",
       "    <tr style=\"text-align: right;\">\n",
       "      <th></th>\n",
       "      <th>country_code</th>\n",
       "      <th>country</th>\n",
       "      <th>count</th>\n",
       "      <th>max_power_kw_max</th>\n",
       "    </tr>\n",
       "  </thead>\n",
       "  <tbody>\n",
       "    <tr>\n",
       "      <th>0</th>\n",
       "      <td>US</td>\n",
       "      <td>United States</td>\n",
       "      <td>83821</td>\n",
       "      <td>600.0</td>\n",
       "    </tr>\n",
       "    <tr>\n",
       "      <th>1</th>\n",
       "      <td>GB</td>\n",
       "      <td>United Kingdom</td>\n",
       "      <td>27437</td>\n",
       "      <td>560.0</td>\n",
       "    </tr>\n",
       "    <tr>\n",
       "      <th>2</th>\n",
       "      <td>DE</td>\n",
       "      <td>Germany</td>\n",
       "      <td>24465</td>\n",
       "      <td>400.0</td>\n",
       "    </tr>\n",
       "    <tr>\n",
       "      <th>3</th>\n",
       "      <td>CA</td>\n",
       "      <td>Canada</td>\n",
       "      <td>18203</td>\n",
       "      <td>400.0</td>\n",
       "    </tr>\n",
       "    <tr>\n",
       "      <th>4</th>\n",
       "      <td>ES</td>\n",
       "      <td>Spain</td>\n",
       "      <td>17864</td>\n",
       "      <td>1000.0</td>\n",
       "    </tr>\n",
       "  </tbody>\n",
       "</table>\n",
       "</div>"
      ],
      "text/plain": [
       "  country_code         country  count  max_power_kw_max\n",
       "0           US   United States  83821             600.0\n",
       "1           GB  United Kingdom  27437             560.0\n",
       "2           DE         Germany  24465             400.0\n",
       "3           CA          Canada  18203             400.0\n",
       "4           ES           Spain  17864            1000.0"
      ]
     },
     "execution_count": 39,
     "metadata": {},
     "output_type": "execute_result"
    }
   ],
   "source": [
    "world_summary.head()"
   ]
  },
  {
   "cell_type": "code",
   "execution_count": null,
   "id": "8cfef266-d2d3-4b9e-a08f-169888d826de",
   "metadata": {},
   "outputs": [],
   "source": []
  },
  {
   "cell_type": "markdown",
   "id": "8e818a1b-744a-4710-ae35-4caef7df8a49",
   "metadata": {},
   "source": [
    "#### check null values"
   ]
  },
  {
   "cell_type": "code",
   "execution_count": 40,
   "id": "d5757d55-9899-42a9-9f5c-cb8e4ddd3644",
   "metadata": {},
   "outputs": [
    {
     "data": {
      "text/html": [
       "<div>\n",
       "<style scoped>\n",
       "    .dataframe tbody tr th:only-of-type {\n",
       "        vertical-align: middle;\n",
       "    }\n",
       "\n",
       "    .dataframe tbody tr th {\n",
       "        vertical-align: top;\n",
       "    }\n",
       "\n",
       "    .dataframe thead th {\n",
       "        text-align: right;\n",
       "    }\n",
       "</style>\n",
       "<table border=\"1\" class=\"dataframe\">\n",
       "  <thead>\n",
       "    <tr style=\"text-align: right;\">\n",
       "      <th></th>\n",
       "      <th>country_code</th>\n",
       "      <th>country</th>\n",
       "      <th>count</th>\n",
       "      <th>max_power_kw_max</th>\n",
       "    </tr>\n",
       "  </thead>\n",
       "  <tbody>\n",
       "    <tr>\n",
       "      <th>0</th>\n",
       "      <td>False</td>\n",
       "      <td>False</td>\n",
       "      <td>False</td>\n",
       "      <td>False</td>\n",
       "    </tr>\n",
       "    <tr>\n",
       "      <th>1</th>\n",
       "      <td>False</td>\n",
       "      <td>False</td>\n",
       "      <td>False</td>\n",
       "      <td>False</td>\n",
       "    </tr>\n",
       "    <tr>\n",
       "      <th>2</th>\n",
       "      <td>False</td>\n",
       "      <td>False</td>\n",
       "      <td>False</td>\n",
       "      <td>False</td>\n",
       "    </tr>\n",
       "    <tr>\n",
       "      <th>3</th>\n",
       "      <td>False</td>\n",
       "      <td>False</td>\n",
       "      <td>False</td>\n",
       "      <td>False</td>\n",
       "    </tr>\n",
       "    <tr>\n",
       "      <th>4</th>\n",
       "      <td>False</td>\n",
       "      <td>False</td>\n",
       "      <td>False</td>\n",
       "      <td>False</td>\n",
       "    </tr>\n",
       "    <tr>\n",
       "      <th>...</th>\n",
       "      <td>...</td>\n",
       "      <td>...</td>\n",
       "      <td>...</td>\n",
       "      <td>...</td>\n",
       "    </tr>\n",
       "    <tr>\n",
       "      <th>117</th>\n",
       "      <td>False</td>\n",
       "      <td>False</td>\n",
       "      <td>False</td>\n",
       "      <td>False</td>\n",
       "    </tr>\n",
       "    <tr>\n",
       "      <th>118</th>\n",
       "      <td>False</td>\n",
       "      <td>False</td>\n",
       "      <td>False</td>\n",
       "      <td>True</td>\n",
       "    </tr>\n",
       "    <tr>\n",
       "      <th>119</th>\n",
       "      <td>False</td>\n",
       "      <td>False</td>\n",
       "      <td>False</td>\n",
       "      <td>False</td>\n",
       "    </tr>\n",
       "    <tr>\n",
       "      <th>120</th>\n",
       "      <td>False</td>\n",
       "      <td>False</td>\n",
       "      <td>False</td>\n",
       "      <td>False</td>\n",
       "    </tr>\n",
       "    <tr>\n",
       "      <th>121</th>\n",
       "      <td>False</td>\n",
       "      <td>False</td>\n",
       "      <td>False</td>\n",
       "      <td>True</td>\n",
       "    </tr>\n",
       "  </tbody>\n",
       "</table>\n",
       "<p>122 rows × 4 columns</p>\n",
       "</div>"
      ],
      "text/plain": [
       "     country_code  country  count  max_power_kw_max\n",
       "0           False    False  False             False\n",
       "1           False    False  False             False\n",
       "2           False    False  False             False\n",
       "3           False    False  False             False\n",
       "4           False    False  False             False\n",
       "..            ...      ...    ...               ...\n",
       "117         False    False  False             False\n",
       "118         False    False  False              True\n",
       "119         False    False  False             False\n",
       "120         False    False  False             False\n",
       "121         False    False  False              True\n",
       "\n",
       "[122 rows x 4 columns]"
      ]
     },
     "execution_count": 40,
     "metadata": {},
     "output_type": "execute_result"
    }
   ],
   "source": [
    "world_summary.isnull()"
   ]
  },
  {
   "cell_type": "code",
   "execution_count": 41,
   "id": "067a82ab-8bdc-4112-bcac-328a937c232f",
   "metadata": {
    "scrolled": true
   },
   "outputs": [
    {
     "data": {
      "text/plain": [
       "country_code        1\n",
       "country             0\n",
       "count               0\n",
       "max_power_kw_max    4\n",
       "dtype: int64"
      ]
     },
     "execution_count": 41,
     "metadata": {},
     "output_type": "execute_result"
    }
   ],
   "source": [
    "world_summary.isnull().sum()"
   ]
  },
  {
   "cell_type": "code",
   "execution_count": 42,
   "id": "ad40c01d-b202-4d1d-aa44-c007be086ff6",
   "metadata": {},
   "outputs": [
    {
     "name": "stderr",
     "output_type": "stream",
     "text": [
      "C:\\Users\\DELL\\AppData\\Local\\Temp\\ipykernel_3120\\2449287545.py:1: FutureWarning: A value is trying to be set on a copy of a DataFrame or Series through chained assignment using an inplace method.\n",
      "The behavior will change in pandas 3.0. This inplace method will never work because the intermediate object on which we are setting values always behaves as a copy.\n",
      "\n",
      "For example, when doing 'df[col].method(value, inplace=True)', try using 'df.method({col: value}, inplace=True)' or df[col] = df[col].method(value) instead, to perform the operation inplace on the original object.\n",
      "\n",
      "\n",
      "  world_summary['country_code'].fillna(world_summary['country_code'].mode()[0], inplace=True)\n"
     ]
    }
   ],
   "source": [
    "world_summary['country_code'].fillna(world_summary['country_code'].mode()[0], inplace=True)\n"
   ]
  },
  {
   "cell_type": "code",
   "execution_count": 43,
   "id": "50e6494b-8899-4f53-aeda-176d1f39dd18",
   "metadata": {},
   "outputs": [
    {
     "data": {
      "text/plain": [
       "country_code        0\n",
       "country             0\n",
       "count               0\n",
       "max_power_kw_max    4\n",
       "dtype: int64"
      ]
     },
     "execution_count": 43,
     "metadata": {},
     "output_type": "execute_result"
    }
   ],
   "source": [
    "world_summary.isnull().sum()"
   ]
  },
  {
   "cell_type": "code",
   "execution_count": 44,
   "id": "7e19c250-e13b-4c4e-a188-65f87b2b48d2",
   "metadata": {},
   "outputs": [
    {
     "name": "stderr",
     "output_type": "stream",
     "text": [
      "C:\\Users\\DELL\\AppData\\Local\\Temp\\ipykernel_3120\\2600364358.py:1: FutureWarning: A value is trying to be set on a copy of a DataFrame or Series through chained assignment using an inplace method.\n",
      "The behavior will change in pandas 3.0. This inplace method will never work because the intermediate object on which we are setting values always behaves as a copy.\n",
      "\n",
      "For example, when doing 'df[col].method(value, inplace=True)', try using 'df.method({col: value}, inplace=True)' or df[col] = df[col].method(value) instead, to perform the operation inplace on the original object.\n",
      "\n",
      "\n",
      "  world_summary['max_power_kw_max'].fillna(world_summary['max_power_kw_max'].median(), inplace=True)\n"
     ]
    }
   ],
   "source": [
    "world_summary['max_power_kw_max'].fillna(world_summary['max_power_kw_max'].median(), inplace=True)\n"
   ]
  },
  {
   "cell_type": "code",
   "execution_count": null,
   "id": "9d5308ba-9969-488b-bd42-e239aefe3f30",
   "metadata": {},
   "outputs": [],
   "source": []
  },
  {
   "cell_type": "code",
   "execution_count": null,
   "id": "043c553c-819f-4ec8-b4d4-a7d0313f7c77",
   "metadata": {},
   "outputs": [],
   "source": []
  },
  {
   "cell_type": "code",
   "execution_count": null,
   "id": "cc7a0706-b28d-44ea-bf52-dcc0e68f5373",
   "metadata": {},
   "outputs": [],
   "source": []
  },
  {
   "cell_type": "markdown",
   "id": "d2e6836b-3760-4725-9bdd-a04a3b8648c7",
   "metadata": {},
   "source": [
    "### check duplicates "
   ]
  },
  {
   "cell_type": "code",
   "execution_count": 45,
   "id": "c2fc3eed-e10d-4a70-a688-9eaaef17047d",
   "metadata": {},
   "outputs": [
    {
     "data": {
      "text/plain": [
       "0      False\n",
       "1      False\n",
       "2      False\n",
       "3      False\n",
       "4      False\n",
       "       ...  \n",
       "117    False\n",
       "118    False\n",
       "119    False\n",
       "120    False\n",
       "121    False\n",
       "Length: 122, dtype: bool"
      ]
     },
     "execution_count": 45,
     "metadata": {},
     "output_type": "execute_result"
    }
   ],
   "source": [
    "world_summary.duplicated()"
   ]
  },
  {
   "cell_type": "code",
   "execution_count": 46,
   "id": "5e2348a4-f960-4047-b48e-750e2fef603f",
   "metadata": {},
   "outputs": [
    {
     "data": {
      "text/plain": [
       "np.int64(0)"
      ]
     },
     "execution_count": 46,
     "metadata": {},
     "output_type": "execute_result"
    }
   ],
   "source": [
    "world_summary.duplicated().sum()"
   ]
  },
  {
   "cell_type": "code",
   "execution_count": null,
   "id": "7f9127b0-aa01-4cb3-a904-7364706c0ff0",
   "metadata": {},
   "outputs": [],
   "source": []
  },
  {
   "cell_type": "markdown",
   "id": "089ad26c-34c7-4c6c-a5bf-64d8c1050503",
   "metadata": {},
   "source": [
    "#### check data types"
   ]
  },
  {
   "cell_type": "code",
   "execution_count": 47,
   "id": "b1175e84-3300-4647-b49e-20afe9f8e5ba",
   "metadata": {},
   "outputs": [
    {
     "data": {
      "text/plain": [
       "country_code         object\n",
       "country              object\n",
       "count                 int64\n",
       "max_power_kw_max    float64\n",
       "dtype: object"
      ]
     },
     "execution_count": 47,
     "metadata": {},
     "output_type": "execute_result"
    }
   ],
   "source": [
    "world_summary.dtypes"
   ]
  },
  {
   "cell_type": "code",
   "execution_count": null,
   "id": "308bbcdf-3192-469c-ad4f-30f0a5cff440",
   "metadata": {},
   "outputs": [],
   "source": []
  },
  {
   "cell_type": "code",
   "execution_count": 48,
   "id": "5945d668-f577-4a3a-968b-0712943065a7",
   "metadata": {},
   "outputs": [
    {
     "name": "stdout",
     "output_type": "stream",
     "text": [
      "Charging Stations Shape: (242417, 11)\n",
      "Country Summary Shape: (122, 2)\n",
      "EV Models Shape: (63, 7)\n",
      "World Summary Shape: (122, 4)\n",
      "\n",
      "Charging Stations Columns: ['id', 'name', 'city', 'country_code', 'state_province', 'latitude', 'longitude', 'ports', 'power_kw', 'power_class', 'is_fast_dc']\n",
      "Country Summary Columns: ['country_code', 'stations']\n",
      "EV Models Columns: ['make', 'model', 'market_regions', 'powertrain', 'first_year', 'body_style', 'origin_country']\n",
      "World Summary Columns: ['country_code', 'country', 'count', 'max_power_kw_max']\n"
     ]
    }
   ],
   "source": [
    "print(\"Charging Stations Shape:\", charging_stations.shape)\n",
    "print(\"Country Summary Shape:\", country_summary.shape)\n",
    "print(\"EV Models Shape:\", ev_models.shape)\n",
    "print(\"World Summary Shape:\", world_summary.shape)\n",
    "\n",
    "print(\"\\nCharging Stations Columns:\", charging_stations.columns.tolist())\n",
    "print(\"Country Summary Columns:\", country_summary.columns.tolist())\n",
    "print(\"EV Models Columns:\", ev_models.columns.tolist())\n",
    "print(\"World Summary Columns:\", world_summary.columns.tolist())\n"
   ]
  },
  {
   "cell_type": "code",
   "execution_count": null,
   "id": "f74bd345-cce7-48bb-bde2-58534a07f516",
   "metadata": {},
   "outputs": [],
   "source": []
  },
  {
   "cell_type": "code",
   "execution_count": 49,
   "id": "f2056e51-7576-4381-b221-5e584f2bc398",
   "metadata": {},
   "outputs": [
    {
     "name": "stdout",
     "output_type": "stream",
     "text": [
      "Charging Stations Summary:\n",
      "                   id       latitude      longitude          ports  \\\n",
      "count  242417.000000  242417.000000  242417.000000  242417.000000   \n",
      "mean   204039.926519      43.253894     -32.074160       1.959277   \n",
      "std    101789.186799      12.692335      57.652645       3.931007   \n",
      "min      2389.000000     -55.811599    -164.848855      -4.000000   \n",
      "25%    122882.000000      38.859333     -81.644018       1.000000   \n",
      "50%    208085.000000      44.414623      -2.867264       1.000000   \n",
      "75%    280795.000000      51.413890       7.883693       2.000000   \n",
      "max    460650.000000      81.736061     178.369254     503.000000   \n",
      "\n",
      "             power_kw  \n",
      "count   242417.000000  \n",
      "mean        34.787504  \n",
      "std       2031.745773  \n",
      "min          0.000000  \n",
      "25%          3.700000  \n",
      "50%         11.000000  \n",
      "75%         22.000000  \n",
      "max    1000000.000000  \n",
      "\n",
      "EV Models Summary:\n",
      "          make    model market_regions powertrain   first_year body_style  \\\n",
      "count      63       63             63         63    63.000000         63   \n",
      "unique     33       63             29          1          NaN         11   \n",
      "top     Tesla  Model S          EU/UK        BEV          NaN        SUV   \n",
      "freq        5        1             11         63          NaN         25   \n",
      "mean      NaN      NaN            NaN        NaN  2020.428571        NaN   \n",
      "std       NaN      NaN            NaN        NaN     2.486832        NaN   \n",
      "min       NaN      NaN            NaN        NaN  2010.000000        NaN   \n",
      "25%       NaN      NaN            NaN        NaN  2020.000000        NaN   \n",
      "50%       NaN      NaN            NaN        NaN  2021.000000        NaN   \n",
      "75%       NaN      NaN            NaN        NaN  2022.000000        NaN   \n",
      "max       NaN      NaN            NaN        NaN  2025.000000        NaN   \n",
      "\n",
      "       origin_country  \n",
      "count              63  \n",
      "unique             14  \n",
      "top                US  \n",
      "freq               13  \n",
      "mean              NaN  \n",
      "std               NaN  \n",
      "min               NaN  \n",
      "25%               NaN  \n",
      "50%               NaN  \n",
      "75%               NaN  \n",
      "max               NaN  \n",
      "\n",
      "World Summary:\n",
      "               count  max_power_kw_max\n",
      "count    122.000000        122.000000\n",
      "mean    2035.204918       8430.745902\n",
      "std     8616.963391      90514.617139\n",
      "min        1.000000          7.000000\n",
      "25%        5.250000         76.250000\n",
      "50%       57.000000        180.000000\n",
      "75%      564.000000        350.000000\n",
      "max    83821.000000    1000000.000000\n"
     ]
    }
   ],
   "source": [
    "# Charging stations summary\n",
    "print(\"Charging Stations Summary:\\n\", charging_stations.describe())\n",
    "\n",
    "# EV Models summary (include all for object + int columns)\n",
    "print(\"\\nEV Models Summary:\\n\", ev_models.describe(include='all'))\n",
    "\n",
    "# World summary\n",
    "print(\"\\nWorld Summary:\\n\", world_summary.describe())\n"
   ]
  },
  {
   "cell_type": "code",
   "execution_count": null,
   "id": "07016c15-5a4f-471f-ba84-9781a35849a6",
   "metadata": {},
   "outputs": [],
   "source": []
  },
  {
   "cell_type": "code",
   "execution_count": null,
   "id": "81262b71-7792-4566-a8ff-78532621b25f",
   "metadata": {},
   "outputs": [],
   "source": []
  },
  {
   "cell_type": "markdown",
   "id": "9df9cba4-55db-427a-961e-d1787ba853ce",
   "metadata": {},
   "source": [
    "##### 1. Charging Stations – Power Distribution"
   ]
  },
  {
   "cell_type": "code",
   "execution_count": 51,
   "id": "42c6f9cc-6d92-42ff-9a8b-3cb7c714633e",
   "metadata": {},
   "outputs": [
    {
     "data": {
      "image/png": "[encoded data removed]",
      "text/plain": [
       "<Figure size 800x500 with 1 Axes>"
      ]
     },
     "metadata": {},
     "output_type": "display_data"
    }
   ],
   "source": [
    "plt.figure(figsize=(8,5))\n",
    "sns.histplot(charging_stations['power_kw'], bins=50, kde=True)\n",
    "plt.xlim(0, 600)   # becouse outliers of 1000+ is unrealistic \n",
    "plt.title(\"Charging Station Power Distribution (kW)\")\n",
    "plt.xlabel(\"Power (kW)\")\n",
    "plt.ylabel(\"Count\")\n",
    "plt.show()\n"
   ]
  },
  {
   "cell_type": "code",
   "execution_count": null,
   "id": "229f42a1-cf0b-4495-8c3c-5b2a3c55573b",
   "metadata": {},
   "outputs": [],
   "source": []
  },
  {
   "cell_type": "code",
   "execution_count": null,
   "id": "41c1e850-71f3-47d9-bf25-cb79cd225986",
   "metadata": {},
   "outputs": [],
   "source": [
    "The global EV charging network is still heavily dependent on slow AC chargers.\n",
    "\n",
    "Fast and ultra-fast chargers are limited, but gradually increasing.\n",
    "\n",
    "Outliers suggest either experimental hubs or data entry anomalies."
   ]
  },
  {
   "cell_type": "code",
   "execution_count": null,
   "id": "cdf022be-a24a-41a8-a5c7-6fb014441207",
   "metadata": {},
   "outputs": [],
   "source": []
  },
  {
   "cell_type": "code",
   "execution_count": null,
   "id": "f8cf2a01-5607-4b55-b322-6e621c853831",
   "metadata": {},
   "outputs": [],
   "source": []
  },
  {
   "cell_type": "markdown",
   "id": "df186736-b165-4d56-9193-8049a3f54bcb",
   "metadata": {},
   "source": [
    "##### 2. Charging Stations – Number of Ports"
   ]
  },
  {
   "cell_type": "code",
   "execution_count": 52,
   "id": "899fd085-6da4-4fbc-9476-5ecadd60c570",
   "metadata": {},
   "outputs": [
    {
     "data": {
      "image/png": "[encoded data removed]",
      "text/plain": [
       "<Figure size 800x500 with 1 Axes>"
      ]
     },
     "metadata": {},
     "output_type": "display_data"
    }
   ],
   "source": [
    "plt.figure(figsize=(8,5))\n",
    "sns.histplot(charging_stations['ports'], bins=30, kde=False)\n",
    "plt.xlim(0, 20)   # set limit for remove outliers \n",
    "plt.title(\"Distribution of Ports per Charging Station\")\n",
    "plt.xlabel(\"Number of Ports\")\n",
    "plt.ylabel(\"Count\")\n",
    "plt.show()\n"
   ]
  },
  {
   "cell_type": "code",
   "execution_count": null,
   "id": "fa239b43-6f5b-4cbc-a40f-d06db501744b",
   "metadata": {},
   "outputs": [],
   "source": []
  },
  {
   "cell_type": "code",
   "execution_count": null,
   "id": "89e1761e-f5b2-4d03-8f09-6704f2d12763",
   "metadata": {},
   "outputs": [],
   "source": [
    "Most charging stations worldwide are small, single-vehicle setups.\n",
    "\n",
    "Multi-port hubs (5+ ports) are rare, showing that large-scale charging infrastructure is still developing.\n",
    "\n",
    "The global EV charging ecosystem is fragmented, with very few high-capacity stations."
   ]
  },
  {
   "cell_type": "code",
   "execution_count": null,
   "id": "e320edeb-3064-4a20-b133-ca97d0656c46",
   "metadata": {},
   "outputs": [],
   "source": []
  },
  {
   "cell_type": "code",
   "execution_count": null,
   "id": "c66b7a2f-a1c6-463e-b9c2-9a3c980b75fd",
   "metadata": {},
   "outputs": [],
   "source": []
  },
  {
   "cell_type": "markdown",
   "id": "21c68ee0-fa33-4152-89bd-0ea0883ed757",
   "metadata": {},
   "source": [
    "##### 3. EV Models – Launch Year Distribution"
   ]
  },
  {
   "cell_type": "code",
   "execution_count": 53,
   "id": "4e13df40-fa66-477b-b668-dd2efb3c2ae4",
   "metadata": {},
   "outputs": [
    {
     "data": {
      "image/png": "[encoded data removed]",
      "text/plain": [
       "<Figure size 800x500 with 1 Axes>"
      ]
     },
     "metadata": {},
     "output_type": "display_data"
    }
   ],
   "source": [
    "plt.figure(figsize=(8,5))\n",
    "sns.countplot(data=ev_models, x='first_year', order=sorted(ev_models['first_year'].unique()))\n",
    "plt.xticks(rotation=45)\n",
    "plt.title(\"EV Launches by Year\")\n",
    "plt.xlabel(\"First Launch Year\")\n",
    "plt.ylabel(\"Number of Models\")\n",
    "plt.show()\n"
   ]
  },
  {
   "cell_type": "code",
   "execution_count": null,
   "id": "8cb7935d-34a5-42de-89e4-b7194f8ceaf3",
   "metadata": {},
   "outputs": [],
   "source": []
  },
  {
   "cell_type": "code",
   "execution_count": null,
   "id": "ca271e8d-d02f-454c-94f7-f2e98b818d42",
   "metadata": {},
   "outputs": [],
   "source": []
  },
  {
   "cell_type": "code",
   "execution_count": null,
   "id": "45144097-3c3a-4d23-9e19-69617e6aec8e",
   "metadata": {},
   "outputs": [],
   "source": []
  },
  {
   "cell_type": "markdown",
   "id": "9eb199f9-d01b-4a40-9ef6-76f54466f31b",
   "metadata": {},
   "source": [
    "##### 4. EV Models – Body Style Distribution"
   ]
  },
  {
   "cell_type": "code",
   "execution_count": 54,
   "id": "2e13425d-6b8e-44e6-9105-485e949b6f3f",
   "metadata": {},
   "outputs": [
    {
     "data": {
      "image/png": "[encoded data removed]",
      "text/plain": [
       "<Figure size 600x400 with 1 Axes>"
      ]
     },
     "metadata": {},
     "output_type": "display_data"
    }
   ],
   "source": [
    "plt.figure(figsize=(6,4))\n",
    "sns.countplot(data=ev_models, x='body_style', order=ev_models['body_style'].value_counts().index)\n",
    "plt.xticks(rotation=45)\n",
    "plt.title(\"EV Models by Body Style\")\n",
    "plt.xlabel(\"Body Style\")\n",
    "plt.ylabel(\"Count\")\n",
    "plt.show()\n"
   ]
  },
  {
   "cell_type": "code",
   "execution_count": null,
   "id": "c3b6eb78-f21e-429a-8aad-a3cc0cc0d384",
   "metadata": {},
   "outputs": [],
   "source": []
  },
  {
   "cell_type": "markdown",
   "id": "36d73656-5085-43f8-989a-261b096390eb",
   "metadata": {},
   "source": []
  },
  {
   "cell_type": "code",
   "execution_count": null,
   "id": "8512e7f3-2246-4c11-9d4d-a234bbcc363a",
   "metadata": {},
   "outputs": [],
   "source": []
  },
  {
   "cell_type": "code",
   "execution_count": null,
   "id": "5f848961-8aef-40ec-b4f4-73394fb1e4fa",
   "metadata": {},
   "outputs": [],
   "source": []
  },
  {
   "cell_type": "code",
   "execution_count": null,
   "id": "47b8daac-e734-44a9-879b-3b153310ecfc",
   "metadata": {},
   "outputs": [],
   "source": []
  },
  {
   "cell_type": "code",
   "execution_count": null,
   "id": "2817c1a9-83a2-4269-bb8d-3c5771fdd34f",
   "metadata": {},
   "outputs": [],
   "source": []
  },
  {
   "cell_type": "code",
   "execution_count": null,
   "id": "f44cc30d-a56e-4af5-aa5c-1bef7b8eb0d7",
   "metadata": {},
   "outputs": [],
   "source": []
  },
  {
   "cell_type": "markdown",
   "id": "50d4f54d-9110-4020-8deb-7e2ec9620098",
   "metadata": {},
   "source": [
    "#### Step 3 – Relationships & Comparisons"
   ]
  },
  {
   "cell_type": "markdown",
   "id": "5a9e0e07-ddce-4052-8190-c677d6de816a",
   "metadata": {},
   "source": [
    "##### 3.1 Charging Stations – Power Class vs Fast DC"
   ]
  },
  {
   "cell_type": "code",
   "execution_count": null,
   "id": "7d04ed8b-ef93-49c9-9ecc-436df6e72371",
   "metadata": {},
   "outputs": [],
   "source": []
  },
  {
   "cell_type": "code",
   "execution_count": 55,
   "id": "3ee2bb48-f823-4f47-8cd9-49985696fa2c",
   "metadata": {},
   "outputs": [
    {
     "data": {
      "image/png": "[encoded data removed]",
      "text/plain": [
       "<Figure size 1200x400 with 1 Axes>"
      ]
     },
     "metadata": {},
     "output_type": "display_data"
    }
   ],
   "source": [
    "plt.figure(figsize=(12,4))\n",
    "sns.countplot(data=charging_stations, x='power_class', hue='is_fast_dc')\n",
    "plt.title(\"Power Class vs Fast DC Availability\")\n",
    "plt.xlabel(\"Power Class\")\n",
    "plt.ylabel(\"Count\")\n",
    "plt.show()\n"
   ]
  },
  {
   "cell_type": "code",
   "execution_count": null,
   "id": "84bfecdb-bc40-4c76-a127-cad9daf37128",
   "metadata": {},
   "outputs": [],
   "source": []
  },
  {
   "cell_type": "markdown",
   "id": "8eacec8c-6fbe-4b95-81ab-d3ec8a205575",
   "metadata": {},
   "source": [
    "##### 3.3 EV Models – Body Style vs Powertrain"
   ]
  },
  {
   "cell_type": "code",
   "execution_count": 56,
   "id": "d8f1f6c9-4d31-464a-9197-a06c1921c9cb",
   "metadata": {},
   "outputs": [
    {
     "data": {
      "image/png": "[encoded data removed]",
      "text/plain": [
       "<Figure size 700x500 with 1 Axes>"
      ]
     },
     "metadata": {},
     "output_type": "display_data"
    }
   ],
   "source": [
    "plt.figure(figsize=(7,5))\n",
    "sns.countplot(data=ev_models, x='body_style', hue='powertrain')\n",
    "plt.xticks(rotation=45)\n",
    "plt.title(\"EV Models by Body Style & Powertrain\")\n",
    "plt.xlabel(\"Body Style\")\n",
    "plt.ylabel(\"Count\")\n",
    "plt.show()\n"
   ]
  },
  {
   "cell_type": "code",
   "execution_count": null,
   "id": "e426155d-fd3b-42d9-a1cb-5656fd61074b",
   "metadata": {},
   "outputs": [],
   "source": []
  },
  {
   "cell_type": "markdown",
   "id": "071b188d-2d75-4405-b465-fac15ba4d084",
   "metadata": {},
   "source": [
    "##### 3.4 World – Max Power vs Count (Top 20 Countries)"
   ]
  },
  {
   "cell_type": "code",
   "execution_count": 57,
   "id": "a32c0690-f0ae-448a-bc51-1cb0324fbcda",
   "metadata": {},
   "outputs": [
    {
     "data": {
      "image/png": "[encoded data removed]",
      "text/plain": [
       "<Figure size 1000x600 with 1 Axes>"
      ]
     },
     "metadata": {},
     "output_type": "display_data"
    }
   ],
   "source": [
    "plt.figure(figsize=(10,6))\n",
    "top20 = world_summary.sort_values('count', ascending=False).head(20)\n",
    "sns.scatterplot(data=top20, x='count', y='max_power_kw_max', hue='country', s=150)\n",
    "plt.xscale('log')\n",
    "plt.title(\"Top 20 Countries: Charging Stations vs Max Power\")\n",
    "plt.xlabel(\"Number of Charging Stations (log scale)\")\n",
    "plt.ylabel(\"Max Power (kW)\")\n",
    "plt.show()\n"
   ]
  },
  {
   "cell_type": "markdown",
   "id": "5affa531-785f-4403-97f7-aa2b71902c82",
   "metadata": {},
   "source": [
    "The scatter plot shows that countries with more charging stations \n",
    "(like the U.S. and China) also have diverse power levels. \n",
    "Some countries focus on higher max power even with fewer stations, balancing quantity vs. charging speed."
   ]
  },
  {
   "cell_type": "code",
   "execution_count": null,
   "id": "72021e48-0675-4a57-8602-6f5f15b0d9b8",
   "metadata": {},
   "outputs": [],
   "source": []
  },
  {
   "cell_type": "code",
   "execution_count": null,
   "id": "44f4465d-583b-4382-990a-8caf399bfad2",
   "metadata": {},
   "outputs": [],
   "source": []
  },
  {
   "cell_type": "markdown",
   "id": "ce659120-40f8-484a-9de5-3607fdcc3e09",
   "metadata": {},
   "source": [
    "#### In this project, we analyzed the global EV ecosystem by focusing on:\n",
    "\n",
    "1. Charging Stations – their power distribution, number of ports, and fast vs. slow charging availability.\n",
    "\n",
    "2. EV Models – launch year trends, showing how EV adoption has accelerated in recent years.\n",
    "\n",
    "3. Country & World Summary – comparing countries by charging station count and max charging power."
   ]
  },
  {
   "cell_type": "code",
   "execution_count": null,
   "id": "65c483ac-398f-4087-9df2-acc3f86fa547",
   "metadata": {},
   "outputs": [],
   "source": []
  },
  {
   "cell_type": "code",
   "execution_count": null,
   "id": "09af6f77-afa4-481f-8738-e8682ef11bf8",
   "metadata": {},
   "outputs": [],
   "source": []
  },
  {
   "cell_type": "code",
   "execution_count": null,
   "id": "44295325-ff3f-4681-96da-578efe74317b",
   "metadata": {},
   "outputs": [],
   "source": []
  },
  {
   "cell_type": "code",
   "execution_count": null,
   "id": "a2f96346-403e-4d20-8630-46fc70ecc3c2",
   "metadata": {},
   "outputs": [],
   "source": []
  },
  {
   "cell_type": "code",
   "execution_count": null,
   "id": "e730ffc6-bfeb-4ec5-90db-52d19382916d",
   "metadata": {},
   "outputs": [],
   "source": []
  },
  {
   "cell_type": "code",
   "execution_count": null,
   "id": "4ab66d78-02d0-4cf0-b2f0-c8d2870768bb",
   "metadata": {},
   "outputs": [],
   "source": []
  },
  {
   "cell_type": "code",
   "execution_count": null,
   "id": "da69fa0e-f319-4930-99fa-8b4dafc6b94d",
   "metadata": {},
   "outputs": [],
   "source": []
  },
  {
   "cell_type": "code",
   "execution_count": null,
   "id": "bd2db0fb-817a-405f-9c58-b72ee7e7d0d9",
   "metadata": {},
   "outputs": [],
   "source": []
  },
  {
   "cell_type": "code",
   "execution_count": null,
   "id": "18966df2-0496-4be5-835b-c078cc52c053",
   "metadata": {},
   "outputs": [],
   "source": []
  }
 ],
 "metadata": {
  "kernelspec": {
   "display_name": "Python [conda env:base] *",
   "language": "python",
   "name": "conda-base-py"
  },
  "language_info": {
   "codemirror_mode": {
    "name": "ipython",
    "version": 3
   },
   "file_extension": ".py",
   "mimetype": "text/x-python",
   "name": "python",
   "nbconvert_exporter": "python",
   "pygments_lexer": "ipython3",
   "version": "3.13.5"
  }
 },
 "nbformat": 4,
 "nbformat_minor": 5
}
